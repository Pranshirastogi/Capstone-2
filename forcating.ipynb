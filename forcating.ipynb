{
 "cells": [
  {
   "cell_type": "code",
   "execution_count": 127,
   "metadata": {},
   "outputs": [],
   "source": [
    "import pandas as pd\n",
    "import numpy as np\n",
    "from sklearn.model_selection import train_test_split\n",
    "from sklearn.ensemble import RandomForestRegressor\n",
    "from xgboost import XGBRegressor\n",
    "from sklearn.metrics import mean_absolute_error, mean_squared_error, r2_score\n",
    "import matplotlib.pyplot as plt"
   ]
  },
  {
   "cell_type": "code",
   "execution_count": 128,
   "metadata": {},
   "outputs": [],
   "source": [
    "df = pd.read_csv(\"processed_data.csv\")"
   ]
  },
  {
   "cell_type": "code",
   "execution_count": 129,
   "metadata": {},
   "outputs": [
    {
     "data": {
      "text/plain": [
       "User ID                                      object\n",
       "Vehicle Model                                object\n",
       "Battery Capacity (kWh)                      float64\n",
       "Charging Station ID                          object\n",
       "Charging Station Location                    object\n",
       "Charging Start Time                          object\n",
       "Charging End Time                            object\n",
       "Energy Consumed (kWh)                       float64\n",
       "Charging Duration (hours)                   float64\n",
       "Charging Rate (kW)                          float64\n",
       "Charging Cost (USD)                         float64\n",
       "Time of Day                                  object\n",
       "Day of Week                                  object\n",
       "State of Charge (Start %)                   float64\n",
       "State of Charge (End %)                     float64\n",
       "Distance Driven (since last charge) (km)    float64\n",
       "Temperature (°C)                            float64\n",
       "Vehicle Age (years)                         float64\n",
       "Charger Type                                 object\n",
       "User Type                                    object\n",
       "Charging_Start                               object\n",
       "Hour                                          int64\n",
       "DayOfWeek                                     int64\n",
       "Charging_end                                 object\n",
       "Consumption Rate (kWh/min)                  float64\n",
       "Cost per kWh                                float64\n",
       "Peak Hour                                     int64\n",
       "Cost * Energy                               float64\n",
       "Duration * Cost per kWh                     float64\n",
       "Cost Category                                object\n",
       "Energy Category                              object\n",
       "dtype: object"
      ]
     },
     "execution_count": 129,
     "metadata": {},
     "output_type": "execute_result"
    }
   ],
   "source": [
    "df.dtypes"
   ]
  },
  {
   "cell_type": "code",
   "execution_count": 130,
   "metadata": {},
   "outputs": [
    {
     "name": "stdout",
     "output_type": "stream",
     "text": [
      "User ID                                             object\n",
      "Vehicle Model                                       object\n",
      "Battery Capacity (kWh)                             float64\n",
      "Charging Station ID                                 object\n",
      "Charging Station Location                           object\n",
      "Charging Start Time                                 object\n",
      "Charging End Time                                   object\n",
      "Energy Consumed (kWh)                              float64\n",
      "Charging Duration (hours)                          float64\n",
      "Charging Rate (kW)                                 float64\n",
      "Charging Cost (USD)                                float64\n",
      "Time of Day                                         object\n",
      "Day of Week                                         object\n",
      "State of Charge (Start %)                          float64\n",
      "State of Charge (End %)                            float64\n",
      "Distance Driven (since last charge) (km)           float64\n",
      "Temperature (°C)                                   float64\n",
      "Vehicle Age (years)                                float64\n",
      "Charger Type                                        object\n",
      "User Type                                           object\n",
      "Charging_Start                              datetime64[ns]\n",
      "Hour                                                 int64\n",
      "DayOfWeek                                            int64\n",
      "Charging_end                                datetime64[ns]\n",
      "Consumption Rate (kWh/min)                         float64\n",
      "Cost per kWh                                       float64\n",
      "Peak Hour                                            int64\n",
      "Cost * Energy                                      float64\n",
      "Duration * Cost per kWh                            float64\n",
      "Cost Category                                       object\n",
      "Energy Category                                     object\n",
      "dtype: object\n"
     ]
    }
   ],
   "source": [
    "\n",
    "date_columns = [\"Charging_Start\", \"Charging_end\"]\n",
    "\n",
    "for col in date_columns:\n",
    "    df[col] = pd.to_datetime(df[col], errors=\"coerce\")  \n",
    "\n",
    "print(df.dtypes)\n"
   ]
  },
  {
   "cell_type": "code",
   "execution_count": 131,
   "metadata": {},
   "outputs": [],
   "source": [
    "df = pd.read_csv(\"processed_data.csv\", parse_dates=[\"Charging_Start\"], index_col=\"Charging_Start\")\n"
   ]
  },
  {
   "cell_type": "code",
   "execution_count": 132,
   "metadata": {},
   "outputs": [],
   "source": [
    "df = df.sort_index()"
   ]
  },
  {
   "cell_type": "code",
   "execution_count": 133,
   "metadata": {},
   "outputs": [
    {
     "name": "stdout",
     "output_type": "stream",
     "text": [
      "<class 'pandas.core.frame.DataFrame'>\n",
      "DatetimeIndex: 40000 entries, 2000-01-01 07:20:02.839385110 to 2022-12-30 21:49:40.323087360\n",
      "Data columns (total 30 columns):\n",
      " #   Column                                    Non-Null Count  Dtype  \n",
      "---  ------                                    --------------  -----  \n",
      " 0   User ID                                   40000 non-null  object \n",
      " 1   Vehicle Model                             40000 non-null  object \n",
      " 2   Battery Capacity (kWh)                    40000 non-null  float64\n",
      " 3   Charging Station ID                       40000 non-null  object \n",
      " 4   Charging Station Location                 40000 non-null  object \n",
      " 5   Charging Start Time                       40000 non-null  object \n",
      " 6   Charging End Time                         40000 non-null  object \n",
      " 7   Energy Consumed (kWh)                     40000 non-null  float64\n",
      " 8   Charging Duration (hours)                 40000 non-null  float64\n",
      " 9   Charging Rate (kW)                        40000 non-null  float64\n",
      " 10  Charging Cost (USD)                       40000 non-null  float64\n",
      " 11  Time of Day                               40000 non-null  object \n",
      " 12  Day of Week                               40000 non-null  object \n",
      " 13  State of Charge (Start %)                 40000 non-null  float64\n",
      " 14  State of Charge (End %)                   40000 non-null  float64\n",
      " 15  Distance Driven (since last charge) (km)  40000 non-null  float64\n",
      " 16  Temperature (°C)                          40000 non-null  float64\n",
      " 17  Vehicle Age (years)                       40000 non-null  float64\n",
      " 18  Charger Type                              40000 non-null  object \n",
      " 19  User Type                                 40000 non-null  object \n",
      " 20  Hour                                      40000 non-null  int64  \n",
      " 21  DayOfWeek                                 40000 non-null  int64  \n",
      " 22  Charging_end                              40000 non-null  object \n",
      " 23  Consumption Rate (kWh/min)                40000 non-null  float64\n",
      " 24  Cost per kWh                              40000 non-null  float64\n",
      " 25  Peak Hour                                 40000 non-null  int64  \n",
      " 26  Cost * Energy                             40000 non-null  float64\n",
      " 27  Duration * Cost per kWh                   40000 non-null  float64\n",
      " 28  Cost Category                             40000 non-null  object \n",
      " 29  Energy Category                           40000 non-null  object \n",
      "dtypes: float64(14), int64(3), object(13)\n",
      "memory usage: 9.5+ MB\n",
      "                                User ID  Vehicle Model  \\\n",
      "Charging_Start                                           \n",
      "2000-01-01 07:20:02.839385110  User_852   Hyundai Kona   \n",
      "2000-01-01 20:18:19.121174222   User_88  Tesla Model 3   \n",
      "2000-01-02 09:50:43.383328755  User_262     Chevy Bolt   \n",
      "2000-01-02 16:57:14.519380230  User_229     Chevy Bolt   \n",
      "2000-01-02 23:49:45.889688058  User_910    Nissan Leaf   \n",
      "\n",
      "                               Battery Capacity (kWh) Charging Station ID  \\\n",
      "Charging_Start                                                              \n",
      "2000-01-01 07:20:02.839385110               96.608721         Station_414   \n",
      "2000-01-01 20:18:19.121174222               62.000000         Station_105   \n",
      "2000-01-02 09:50:43.383328755              100.000000          Station_49   \n",
      "2000-01-02 16:57:14.519380230               27.033258         Station_131   \n",
      "2000-01-02 23:49:45.889688058               62.000000          Station_42   \n",
      "\n",
      "                              Charging Station Location  \\\n",
      "Charging_Start                                            \n",
      "2000-01-01 07:20:02.839385110               Los Angeles   \n",
      "2000-01-01 20:18:19.121174222                  New York   \n",
      "2000-01-02 09:50:43.383328755             San Francisco   \n",
      "2000-01-02 16:57:14.519380230                  New York   \n",
      "2000-01-02 23:49:45.889688058                   Houston   \n",
      "\n",
      "                                         Charging Start Time  \\\n",
      "Charging_Start                                                 \n",
      "2000-01-01 07:20:02.839385110  2000-01-01 07:20:02.839385110   \n",
      "2000-01-01 20:18:19.121174222  2000-01-01 20:18:19.121174222   \n",
      "2000-01-02 09:50:43.383328755  2000-01-02 09:50:43.383328755   \n",
      "2000-01-02 16:57:14.519380230  2000-01-02 16:57:14.519380230   \n",
      "2000-01-02 23:49:45.889688058  2000-01-02 23:49:45.889688058   \n",
      "\n",
      "                                 Charging End Time  Energy Consumed (kWh)  \\\n",
      "Charging_Start                                                              \n",
      "2000-01-01 07:20:02.839385110  2024-02-05 13:35:00              56.516456   \n",
      "2000-01-01 20:18:19.121174222  2024-01-04 16:26:00              79.818694   \n",
      "2000-01-02 09:50:43.383328755  2024-01-11 23:39:00              54.126087   \n",
      "2000-01-02 16:57:14.519380230  2024-01-10 13:34:00              49.186728   \n",
      "2000-01-02 23:49:45.889688058  2024-02-07 22:37:00              20.846378   \n",
      "\n",
      "                               Charging Duration (hours)  Charging Rate (kW)  \\\n",
      "Charging_Start                                                                 \n",
      "2000-01-01 07:20:02.839385110                   3.003172           47.829480   \n",
      "2000-01-01 20:18:19.121174222                   2.606480           13.009732   \n",
      "2000-01-02 09:50:43.383328755                   1.253315           13.619052   \n",
      "2000-01-02 16:57:14.519380230                   1.912563           32.363055   \n",
      "2000-01-02 23:49:45.889688058                   1.499771           26.577815   \n",
      "\n",
      "                               ...  Hour DayOfWeek         Charging_end  \\\n",
      "Charging_Start                 ...                                        \n",
      "2000-01-01 07:20:02.839385110  ...    13         0  2024-02-05 13:35:00   \n",
      "2000-01-01 20:18:19.121174222  ...    16         3  2024-01-04 16:26:00   \n",
      "2000-01-02 09:50:43.383328755  ...    23         3  2024-01-11 23:39:00   \n",
      "2000-01-02 16:57:14.519380230  ...    13         2  2024-01-10 13:34:00   \n",
      "2000-01-02 23:49:45.889688058  ...    22         2  2024-02-07 22:37:00   \n",
      "\n",
      "                               Consumption Rate (kWh/min)  Cost per kWh  \\\n",
      "Charging_Start                                                            \n",
      "2000-01-01 07:20:02.839385110                   18.818924      0.674723   \n",
      "2000-01-01 20:18:19.121174222                   30.623180      0.450663   \n",
      "2000-01-02 09:50:43.383328755                   43.186355      0.590032   \n",
      "2000-01-02 16:57:14.519380230                   25.717702      0.185408   \n",
      "2000-01-02 23:49:45.889688058                   13.899707      0.756374   \n",
      "\n",
      "                               Peak Hour  Cost * Energy  \\\n",
      "Charging_Start                                            \n",
      "2000-01-01 07:20:02.839385110          0    2155.139812   \n",
      "2000-01-01 20:18:19.121174222          0    2871.183559   \n",
      "2000-01-02 09:50:43.383328755          0    1728.576984   \n",
      "2000-01-02 16:57:14.519380230          0     448.563641   \n",
      "2000-01-02 23:49:45.889688058          0     328.698522   \n",
      "\n",
      "                               Duration * Cost per kWh Cost Category  \\\n",
      "Charging_Start                                                         \n",
      "2000-01-01 07:20:02.839385110                 2.026309     Very High   \n",
      "2000-01-01 20:18:19.121174222                 1.174643     Very High   \n",
      "2000-01-02 09:50:43.383328755                 0.739496     Very High   \n",
      "2000-01-02 16:57:14.519380230                 0.354604           Low   \n",
      "2000-01-02 23:49:45.889688058                 1.134388        Medium   \n",
      "\n",
      "                              Energy Category  \n",
      "Charging_Start                                 \n",
      "2000-01-01 07:20:02.839385110            High  \n",
      "2000-01-01 20:18:19.121174222       Very High  \n",
      "2000-01-02 09:50:43.383328755            High  \n",
      "2000-01-02 16:57:14.519380230            High  \n",
      "2000-01-02 23:49:45.889688058             Low  \n",
      "\n",
      "[5 rows x 30 columns] \n",
      " None\n"
     ]
    }
   ],
   "source": [
    "print(df.head(), \"\\n\", df.info())"
   ]
  },
  {
   "cell_type": "code",
   "execution_count": 134,
   "metadata": {},
   "outputs": [],
   "source": [
    "object_cols = df.select_dtypes(include=['object']).columns"
   ]
  },
  {
   "cell_type": "code",
   "execution_count": 135,
   "metadata": {},
   "outputs": [],
   "source": [
    "from sklearn.preprocessing import OneHotEncoder, LabelEncoder\n",
    "\n",
    "le = LabelEncoder()\n",
    "for col in object_cols:\n",
    "    df[col] = le.fit_transform(df[col])"
   ]
  },
  {
   "cell_type": "code",
   "execution_count": 136,
   "metadata": {},
   "outputs": [],
   "source": [
    "# Extract time-based features\n",
    "df[\"Year\"] = df.index.year\n",
    "df[\"Month\"] = df.index.month\n",
    "df[\"Day\"] = df.index.day\n",
    "df[\"DayOfWeek\"] = df.index.dayofweek\n",
    "df[\"Hour\"] = df.index.hour  # Use only if timestamp contains hours\n",
    "\n",
    "# Create lag features (previous values as new features)\n",
    "df[\"Lag_1\"] = df[\"Charging Cost (USD)\"].shift(1)\n",
    "df[\"Lag_7\"] = df[\"Charging Cost (USD)\"].shift(7)  # Weekly lag\n",
    "\n",
    "# Drop missing values created by shift()\n",
    "df.dropna(inplace=True)\n",
    "\n",
    "# Define X (features) and y (target)\n",
    "X = df.drop(columns=[\"Charging Cost (USD)\"])\n",
    "y = df[\"Charging Cost (USD)\"]"
   ]
  },
  {
   "cell_type": "code",
   "execution_count": 137,
   "metadata": {},
   "outputs": [
    {
     "name": "stdout",
     "output_type": "stream",
     "text": [
      "Train Size: (31994, 34), Test Size: (7999, 34)\n"
     ]
    }
   ],
   "source": [
    "# Split into 80% train, 20% test (last 20% is for future prediction)\n",
    "train_size = int(len(df) * 0.8)\n",
    "X_train, X_test = X.iloc[:train_size], X.iloc[train_size:]\n",
    "y_train, y_test = y.iloc[:train_size], y.iloc[train_size:]\n",
    "\n",
    "print(f\"Train Size: {X_train.shape}, Test Size: {X_test.shape}\")\n"
   ]
  },
  {
   "cell_type": "code",
   "execution_count": 138,
   "metadata": {},
   "outputs": [],
   "source": [
    "from sklearn.ensemble import RandomForestRegressor\n",
    "\n",
    "rf_model = RandomForestRegressor(n_estimators=100, random_state=42)\n",
    "rf_model.fit(X_train, y_train)\n",
    "\n",
    "# Make predictions\n",
    "y_pred_rf = rf_model.predict(X_test)\n"
   ]
  },
  {
   "cell_type": "code",
   "execution_count": 139,
   "metadata": {},
   "outputs": [],
   "source": [
    "from xgboost import XGBRegressor\n",
    "\n",
    "xgb_model = XGBRegressor(n_estimators=100, learning_rate=0.1, random_state=42)\n",
    "xgb_model.fit(X_train, y_train)\n",
    "\n",
    "# Make predictions\n",
    "y_pred_xgb = xgb_model.predict(X_test)\n"
   ]
  },
  {
   "cell_type": "code",
   "execution_count": 140,
   "metadata": {},
   "outputs": [
    {
     "name": "stdout",
     "output_type": "stream",
     "text": [
      "📊 Random Forest Forecasting Performance:\n",
      "- MAE: 0.0000\n",
      "- MSE: 0.0000\n",
      "- RMSE: 0.0000\n",
      "- R² Score: 1.0000\n",
      "\n",
      "📊 XGBoost Forecasting Performance:\n",
      "- MAE: 0.1722\n",
      "- MSE: 0.0502\n",
      "- RMSE: 0.2240\n",
      "- R² Score: 0.9996\n",
      "\n"
     ]
    }
   ],
   "source": [
    "from sklearn.metrics import mean_absolute_error, mean_squared_error, r2_score\n",
    "\n",
    "def evaluate_forecast(y_true, y_pred, model_name):\n",
    "    print(f\"📊 {model_name} Forecasting Performance:\")\n",
    "    print(f\"- MAE: {mean_absolute_error(y_true, y_pred):.4f}\")\n",
    "    print(f\"- MSE: {mean_squared_error(y_true, y_pred):.4f}\")\n",
    "    print(f\"- RMSE: {np.sqrt(mean_squared_error(y_true, y_pred)):.4f}\")\n",
    "    print(f\"- R² Score: {r2_score(y_true, y_pred):.4f}\\n\")\n",
    "\n",
    "evaluate_forecast(y_test, y_pred_rf, \"Random Forest\")\n",
    "evaluate_forecast(y_test, y_pred_xgb, \"XGBoost\")\n"
   ]
  },
  {
   "cell_type": "code",
   "execution_count": 141,
   "metadata": {},
   "outputs": [
    {
     "name": "stdout",
     "output_type": "stream",
     "text": [
      "                               Predicted_Values\n",
      "2022-12-30 21:49:40.323087360         21.337275\n",
      "2022-12-31 21:49:40.323087360         21.337275\n",
      "2023-01-01 21:49:40.323087360         21.337275\n",
      "2023-01-02 21:49:40.323087360         21.337275\n",
      "2023-01-03 21:49:40.323087360         21.337275\n",
      "2023-01-04 21:49:40.323087360         21.337275\n",
      "2023-01-05 21:49:40.323087360         21.337275\n",
      "2023-01-06 21:49:40.323087360         21.337275\n",
      "2023-01-07 21:49:40.323087360         21.337275\n",
      "2023-01-08 21:49:40.323087360         21.337275\n"
     ]
    },
    {
     "name": "stderr",
     "output_type": "stream",
     "text": [
      "C:\\Users\\rasto\\AppData\\Local\\Temp\\ipykernel_14568\\1524576208.py:14: FutureWarning: Downcasting object dtype arrays on .fillna, .ffill, .bfill is deprecated and will change in a future version. Call result.infer_objects(copy=False) instead. To opt-in to the future behavior, set `pd.set_option('future.no_silent_downcasting', True)`\n",
      "  future_df.fillna(X_train.mean(), inplace=True)  # Ensures all columns exist\n"
     ]
    }
   ],
   "source": [
    "# Create an empty DataFrame with same columns as X_train\n",
    "future_df = pd.DataFrame(index=future_dates, columns=X_train.columns)\n",
    "\n",
    "# Fill time-based features\n",
    "future_df[\"Year\"] = future_df.index.year\n",
    "future_df[\"Month\"] = future_df.index.month\n",
    "future_df[\"Day\"] = future_df.index.day\n",
    "future_df[\"DayOfWeek\"] = future_df.index.dayofweek\n",
    "\n",
    "# Fill lag features (use last known values for rolling predictions)\n",
    "future_df[\"Lag_1\"] = [y_test.iloc[-1]] + list(y_pred_rf[-9:])  # Using last known value + previous predictions\n",
    "\n",
    "# Fill missing values with mean (or another strategy)\n",
    "future_df.fillna(X_train.mean(), inplace=True)  # Ensures all columns exist\n",
    "\n",
    "# Make future predictions\n",
    "future_df[\"Predicted_Values\"] = rf_model.predict(future_df)\n",
    "\n",
    "# Show results\n",
    "print(future_df[[\"Predicted_Values\"]])\n"
   ]
  },
  {
   "cell_type": "code",
   "execution_count": 142,
   "metadata": {},
   "outputs": [],
   "source": [
    "df2 = pd.read_csv(\"processed_data.csv\", parse_dates=[\"Charging_end\"], index_col=\"Charging_end\")"
   ]
  },
  {
   "cell_type": "code",
   "execution_count": 143,
   "metadata": {},
   "outputs": [],
   "source": [
    "df2 = df2.sort_index()"
   ]
  },
  {
   "cell_type": "code",
   "execution_count": 144,
   "metadata": {},
   "outputs": [
    {
     "name": "stdout",
     "output_type": "stream",
     "text": [
      "<class 'pandas.core.frame.DataFrame'>\n",
      "DatetimeIndex: 40000 entries, 2024-01-01 00:39:00 to 2024-02-24 23:56:00\n",
      "Data columns (total 30 columns):\n",
      " #   Column                                    Non-Null Count  Dtype  \n",
      "---  ------                                    --------------  -----  \n",
      " 0   User ID                                   40000 non-null  object \n",
      " 1   Vehicle Model                             40000 non-null  object \n",
      " 2   Battery Capacity (kWh)                    40000 non-null  float64\n",
      " 3   Charging Station ID                       40000 non-null  object \n",
      " 4   Charging Station Location                 40000 non-null  object \n",
      " 5   Charging Start Time                       40000 non-null  object \n",
      " 6   Charging End Time                         40000 non-null  object \n",
      " 7   Energy Consumed (kWh)                     40000 non-null  float64\n",
      " 8   Charging Duration (hours)                 40000 non-null  float64\n",
      " 9   Charging Rate (kW)                        40000 non-null  float64\n",
      " 10  Charging Cost (USD)                       40000 non-null  float64\n",
      " 11  Time of Day                               40000 non-null  object \n",
      " 12  Day of Week                               40000 non-null  object \n",
      " 13  State of Charge (Start %)                 40000 non-null  float64\n",
      " 14  State of Charge (End %)                   40000 non-null  float64\n",
      " 15  Distance Driven (since last charge) (km)  40000 non-null  float64\n",
      " 16  Temperature (°C)                          40000 non-null  float64\n",
      " 17  Vehicle Age (years)                       40000 non-null  float64\n",
      " 18  Charger Type                              40000 non-null  object \n",
      " 19  User Type                                 40000 non-null  object \n",
      " 20  Charging_Start                            40000 non-null  object \n",
      " 21  Hour                                      40000 non-null  int64  \n",
      " 22  DayOfWeek                                 40000 non-null  int64  \n",
      " 23  Consumption Rate (kWh/min)                40000 non-null  float64\n",
      " 24  Cost per kWh                              40000 non-null  float64\n",
      " 25  Peak Hour                                 40000 non-null  int64  \n",
      " 26  Cost * Energy                             40000 non-null  float64\n",
      " 27  Duration * Cost per kWh                   40000 non-null  float64\n",
      " 28  Cost Category                             40000 non-null  object \n",
      " 29  Energy Category                           40000 non-null  object \n",
      "dtypes: float64(14), int64(3), object(13)\n",
      "memory usage: 9.5+ MB\n",
      "                    User ID Vehicle Model  Battery Capacity (kWh)  \\\n",
      "Charging_end                                                        \n",
      "2024-01-01 00:39:00  User_1        BMW i3              108.463007   \n",
      "2024-01-01 00:39:00  User_1        BMW i3              108.463007   \n",
      "2024-01-01 00:39:00  User_1        BMW i3              108.463007   \n",
      "2024-01-01 00:39:00  User_1        BMW i3              108.463007   \n",
      "2024-01-01 00:39:00  User_1        BMW i3              108.463007   \n",
      "\n",
      "                    Charging Station ID Charging Station Location  \\\n",
      "Charging_end                                                        \n",
      "2024-01-01 00:39:00         Station_391                   Houston   \n",
      "2024-01-01 00:39:00         Station_391                   Houston   \n",
      "2024-01-01 00:39:00         Station_391                   Houston   \n",
      "2024-01-01 00:39:00         Station_391                   Houston   \n",
      "2024-01-01 00:39:00         Station_391                   Houston   \n",
      "\n",
      "                               Charging Start Time    Charging End Time  \\\n",
      "Charging_end                                                              \n",
      "2024-01-01 00:39:00  2004-10-01 09:28:25.451630400  2024-01-01 00:39:00   \n",
      "2024-01-01 00:39:00  2018-02-16 23:08:57.491574336  2024-01-01 00:39:00   \n",
      "2024-01-01 00:39:00  2003-06-26 12:51:42.500461504  2024-01-01 00:39:00   \n",
      "2024-01-01 00:39:00  2001-12-18 02:51:17.420945776  2024-01-01 00:39:00   \n",
      "2024-01-01 00:39:00  2004-02-07 03:35:32.976274320  2024-01-01 00:39:00   \n",
      "\n",
      "                     Energy Consumed (kWh)  Charging Duration (hours)  \\\n",
      "Charging_end                                                            \n",
      "2024-01-01 00:39:00              60.712346                   0.591363   \n",
      "2024-01-01 00:39:00              60.712346                   0.591363   \n",
      "2024-01-01 00:39:00              60.712346                   0.591363   \n",
      "2024-01-01 00:39:00              60.712346                   0.591363   \n",
      "2024-01-01 00:39:00              60.712346                   0.591363   \n",
      "\n",
      "                     Charging Rate (kW)  ...                 Charging_Start  \\\n",
      "Charging_end                             ...                                  \n",
      "2024-01-01 00:39:00           36.389181  ...  2004-10-01 09:28:25.451630400   \n",
      "2024-01-01 00:39:00           36.389181  ...  2018-02-16 23:08:57.491574336   \n",
      "2024-01-01 00:39:00           36.389181  ...  2003-06-26 12:51:42.500461504   \n",
      "2024-01-01 00:39:00           36.389181  ...  2001-12-18 02:51:17.420945776   \n",
      "2024-01-01 00:39:00           36.389181  ...  2004-02-07 03:35:32.976274320   \n",
      "\n",
      "                    Hour DayOfWeek  Consumption Rate (kWh/min)  Cost per kWh  \\\n",
      "Charging_end                                                                   \n",
      "2024-01-01 00:39:00    0         0                  102.665033      0.215569   \n",
      "2024-01-01 00:39:00    0         0                  102.665033      0.215569   \n",
      "2024-01-01 00:39:00    0         0                  102.665033      0.215569   \n",
      "2024-01-01 00:39:00    0         0                  102.665033      0.215569   \n",
      "2024-01-01 00:39:00    0         0                  102.665033      0.215569   \n",
      "\n",
      "                     Peak Hour  Cost * Energy  Duration * Cost per kWh  \\\n",
      "Charging_end                                                             \n",
      "2024-01-01 00:39:00          0     794.585987                  0.12748   \n",
      "2024-01-01 00:39:00          0     794.585987                  0.12748   \n",
      "2024-01-01 00:39:00          0     794.585987                  0.12748   \n",
      "2024-01-01 00:39:00          0     794.585987                  0.12748   \n",
      "2024-01-01 00:39:00          0     794.585987                  0.12748   \n",
      "\n",
      "                    Cost Category Energy Category  \n",
      "Charging_end                                       \n",
      "2024-01-01 00:39:00           Low       Very High  \n",
      "2024-01-01 00:39:00           Low       Very High  \n",
      "2024-01-01 00:39:00           Low       Very High  \n",
      "2024-01-01 00:39:00           Low       Very High  \n",
      "2024-01-01 00:39:00           Low       Very High  \n",
      "\n",
      "[5 rows x 30 columns] \n",
      " None\n"
     ]
    }
   ],
   "source": [
    "print(df2.head(), \"\\n\", df2.info())"
   ]
  },
  {
   "cell_type": "code",
   "execution_count": 145,
   "metadata": {},
   "outputs": [],
   "source": [
    "object_cols = df2.select_dtypes(include=['object']).columns"
   ]
  },
  {
   "cell_type": "code",
   "execution_count": 146,
   "metadata": {},
   "outputs": [],
   "source": [
    "le = LabelEncoder()\n",
    "for col in object_cols:\n",
    "    df2[col] = le.fit_transform(df2[col])"
   ]
  },
  {
   "cell_type": "code",
   "execution_count": 147,
   "metadata": {},
   "outputs": [],
   "source": [
    "# Extract time-based features\n",
    "df2[\"Year\"] = df2.index.year\n",
    "df2[\"Month\"] = df2.index.month\n",
    "df2[\"Day\"] = df2.index.day\n",
    "df2[\"DayOfWeek\"] = df2.index.dayofweek\n",
    "df2[\"Hour\"] = df2.index.hour  \n",
    "\n",
    "# Create lag features (previous values as new features)\n",
    "df2[\"Lag_1\"] = df2[\"Charging Cost (USD)\"].shift(1)\n",
    "df2[\"Lag_7\"] = df2[\"Charging Cost (USD)\"].shift(7)  # Weekly lag\n",
    "\n",
    "# Drop missing values created by shift()\n",
    "df2.dropna(inplace=True)\n",
    "\n",
    "# Define X (features) and y (target)\n",
    "X = df2.drop(columns=[\"Charging Cost (USD)\"])\n",
    "y = df2[\"Charging Cost (USD)\"]"
   ]
  },
  {
   "cell_type": "code",
   "execution_count": 148,
   "metadata": {},
   "outputs": [
    {
     "data": {
      "text/plain": [
       "(39993, 35)"
      ]
     },
     "execution_count": 148,
     "metadata": {},
     "output_type": "execute_result"
    }
   ],
   "source": [
    "df2.shape"
   ]
  },
  {
   "cell_type": "code",
   "execution_count": 149,
   "metadata": {},
   "outputs": [
    {
     "name": "stdout",
     "output_type": "stream",
     "text": [
      "Train Size: (31994, 34), Test Size: (7999, 34)\n"
     ]
    }
   ],
   "source": [
    "# Split into 80% train, 20% test (last 20% is for future prediction)\n",
    "train_size = int(len(df2) * 0.8)\n",
    "X_train, X_test = X.iloc[:train_size], X.iloc[train_size:]\n",
    "y_train, y_test = y.iloc[:train_size], y.iloc[train_size:]\n",
    "\n",
    "print(f\"Train Size: {X_train.shape}, Test Size: {X_test.shape}\")\n"
   ]
  },
  {
   "cell_type": "code",
   "execution_count": 150,
   "metadata": {},
   "outputs": [],
   "source": [
    "rf_model2 = RandomForestRegressor(n_estimators=100, random_state=42)\n",
    "rf_model2.fit(X_train, y_train)\n",
    "\n",
    "# Make predictions\n",
    "y_pred_rf2 = rf_model2.predict(X_test)"
   ]
  },
  {
   "cell_type": "code",
   "execution_count": 151,
   "metadata": {},
   "outputs": [],
   "source": [
    "xgb_model2 = XGBRegressor(n_estimators=100, learning_rate=0.1, random_state=42)\n",
    "xgb_model2.fit(X_train, y_train)\n",
    "\n",
    "# Make predictions\n",
    "y_pred_xgb2 = xgb_model2.predict(X_test)"
   ]
  },
  {
   "cell_type": "code",
   "execution_count": 152,
   "metadata": {},
   "outputs": [
    {
     "name": "stdout",
     "output_type": "stream",
     "text": [
      "📊 Random Forest Forecasting Performance:\n",
      "- MAE: 0.5564\n",
      "- MSE: 1.0752\n",
      "- RMSE: 1.0369\n",
      "- R² Score: 0.9909\n",
      "\n",
      "📊 XGBoost Forecasting Performance:\n",
      "- MAE: 0.3848\n",
      "- MSE: 1.3704\n",
      "- RMSE: 1.1706\n",
      "- R² Score: 0.9884\n",
      "\n"
     ]
    }
   ],
   "source": [
    "def evaluate_forecast(y_true, y_pred, model_name):\n",
    "    print(f\"📊 {model_name} Forecasting Performance:\")\n",
    "    print(f\"- MAE: {mean_absolute_error(y_true, y_pred):.4f}\")\n",
    "    print(f\"- MSE: {mean_squared_error(y_true, y_pred):.4f}\")\n",
    "    print(f\"- RMSE: {np.sqrt(mean_squared_error(y_true, y_pred)):.4f}\")\n",
    "    print(f\"- R² Score: {r2_score(y_true, y_pred):.4f}\\n\")\n",
    "\n",
    "evaluate_forecast(y_test, y_pred_rf2, \"Random Forest\")\n",
    "evaluate_forecast(y_test, y_pred_xgb2, \"XGBoost\")"
   ]
  },
  {
   "cell_type": "code",
   "execution_count": 153,
   "metadata": {},
   "outputs": [
    {
     "name": "stdout",
     "output_type": "stream",
     "text": [
      "                               Predicted_Values\n",
      "2022-12-30 21:49:40.323087360         18.254089\n",
      "2022-12-31 21:49:40.323087360         18.696274\n",
      "2023-01-01 21:49:40.323087360         15.649425\n",
      "2023-01-02 21:49:40.323087360         18.037481\n",
      "2023-01-03 21:49:40.323087360         19.280777\n",
      "2023-01-04 21:49:40.323087360         16.439565\n",
      "2023-01-05 21:49:40.323087360         16.790471\n",
      "2023-01-06 21:49:40.323087360         19.478137\n",
      "2023-01-07 21:49:40.323087360         18.087403\n",
      "2023-01-08 21:49:40.323087360         19.584232\n"
     ]
    },
    {
     "name": "stderr",
     "output_type": "stream",
     "text": [
      "C:\\Users\\rasto\\AppData\\Local\\Temp\\ipykernel_14568\\3409967144.py:14: FutureWarning: Downcasting object dtype arrays on .fillna, .ffill, .bfill is deprecated and will change in a future version. Call result.infer_objects(copy=False) instead. To opt-in to the future behavior, set `pd.set_option('future.no_silent_downcasting', True)`\n",
      "  future_df.fillna(X_train.mean(), inplace=True)  # Ensures all columns exist\n"
     ]
    }
   ],
   "source": [
    "# Create an empty DataFrame with same columns as X_train\n",
    "future_df = pd.DataFrame(index=future_dates, columns=X_train.columns)\n",
    "\n",
    "# Fill time-based features\n",
    "future_df[\"Year\"] = future_df.index.year\n",
    "future_df[\"Month\"] = future_df.index.month\n",
    "future_df[\"Day\"] = future_df.index.day\n",
    "future_df[\"DayOfWeek\"] = future_df.index.dayofweek\n",
    "\n",
    "# Fill lag features (use last known values for rolling predictions)\n",
    "future_df[\"Lag_1\"] = [y_test.iloc[-1]] + list(y_pred_rf[-9:])  # Using last known value + previous predictions\n",
    "\n",
    "# Fill missing values with mean (or another strategy)\n",
    "future_df.fillna(X_train.mean(), inplace=True)  # Ensures all columns exist\n",
    "\n",
    "# Make future predictions\n",
    "future_df[\"Predicted_Values\"] = rf_model2.predict(future_df)\n",
    "\n",
    "# Show results\n",
    "print(future_df[[\"Predicted_Values\"]])\n"
   ]
  },
  {
   "cell_type": "code",
   "execution_count": 154,
   "metadata": {},
   "outputs": [],
   "source": [
    "import pickle"
   ]
  },
  {
   "cell_type": "code",
   "execution_count": 155,
   "metadata": {},
   "outputs": [
    {
     "name": "stdout",
     "output_type": "stream",
     "text": [
      "✅ Models for both datasets saved successfully!\n"
     ]
    }
   ],
   "source": [
    "with open(\"rf_forecast_df.pkl\", \"wb\") as f:\n",
    "    pickle.dump(rf_model, f)\n",
    "\n",
    "with open(\"xgb_forecast_df.pkl\", \"wb\") as f:\n",
    "    pickle.dump(xgb_model, f)\n",
    "\n",
    "# Save models for df2\n",
    "with open(\"rf_forecast_df2.pkl\", \"wb\") as f:\n",
    "    pickle.dump(rf_model2, f)\n",
    "\n",
    "with open(\"xgb_forecast_df2.pkl\", \"wb\") as f:\n",
    "    pickle.dump(xgb_model2, f)\n",
    "\n",
    "print(\"✅ Models for both datasets saved successfully!\")"
   ]
  },
  {
   "cell_type": "code",
   "execution_count": null,
   "metadata": {},
   "outputs": [],
   "source": []
  }
 ],
 "metadata": {
  "kernelspec": {
   "display_name": "base",
   "language": "python",
   "name": "python3"
  },
  "language_info": {
   "codemirror_mode": {
    "name": "ipython",
    "version": 3
   },
   "file_extension": ".py",
   "mimetype": "text/x-python",
   "name": "python",
   "nbconvert_exporter": "python",
   "pygments_lexer": "ipython3",
   "version": "3.12.4"
  }
 },
 "nbformat": 4,
 "nbformat_minor": 2
}
